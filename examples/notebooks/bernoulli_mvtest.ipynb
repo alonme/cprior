{
 "cells": [
  {
   "cell_type": "code",
   "execution_count": 1,
   "metadata": {},
   "outputs": [],
   "source": [
    "import scipy.stats as st\n",
    "\n",
    "from cprior.models import BernoulliModel\n",
    "from cprior.models import BernoulliMVTest"
   ]
  },
  {
   "cell_type": "markdown",
   "metadata": {},
   "source": [
    "Five models: variant A (control/baseline) and 4 variations, and build Multivariate test"
   ]
  },
  {
   "cell_type": "code",
   "execution_count": 2,
   "metadata": {},
   "outputs": [],
   "source": [
    "models = {\n",
    "    'A': BernoulliModel(name=\"control\", alpha=1, beta=1), \n",
    "    'B': BernoulliModel(name=\"variation 1\", alpha=1, beta=1), \n",
    "    'C': BernoulliModel(name=\"variation 2\", alpha=1, beta=1),\n",
    "    'D': BernoulliModel(name=\"variation 3\", alpha=1, beta=1),\n",
    "    'E': BernoulliModel(name=\"variation 4\", alpha=1, beta=1)\n",
    "}\n",
    "\n",
    "mvtest = BernoulliMVTest(models=models, simulations=1000000, random_state=42, n_jobs=2)"
   ]
  },
  {
   "cell_type": "markdown",
   "metadata": {},
   "source": [
    "Generate new data and update models"
   ]
  },
  {
   "cell_type": "code",
   "execution_count": 3,
   "metadata": {},
   "outputs": [],
   "source": [
    "data_A = st.bernoulli(p=0.10).rvs(size=1500, random_state=42)\n",
    "data_B = st.bernoulli(p=0.11).rvs(size=1600, random_state=42)\n",
    "data_C = st.bernoulli(p=0.12).rvs(size=1800, random_state=42)\n",
    "data_D = st.bernoulli(p=0.13).rvs(size=200, random_state=42)\n",
    "data_E = st.bernoulli(p=0.08).rvs(size=180, random_state=42)"
   ]
  },
  {
   "cell_type": "code",
   "execution_count": 4,
   "metadata": {},
   "outputs": [],
   "source": [
    "mvtest.update(data_A, 'A')\n",
    "mvtest.update(data_B, 'B')\n",
    "mvtest.update(data_C, 'C')\n",
    "mvtest.update(data_D, 'D')\n",
    "mvtest.update(data_E, 'E')"
   ]
  },
  {
   "cell_type": "markdown",
   "metadata": {},
   "source": [
    "Compute P[B > A]"
   ]
  },
  {
   "cell_type": "code",
   "execution_count": 5,
   "metadata": {},
   "outputs": [
    {
     "data": {
      "text/plain": [
       "0.8975625093382118"
      ]
     },
     "execution_count": 5,
     "metadata": {},
     "output_type": "execute_result"
    }
   ],
   "source": [
    "mvtest.probability(control='A', variant='B')"
   ]
  },
  {
   "cell_type": "markdown",
   "metadata": {},
   "source": [
    "Compute P[C > E]"
   ]
  },
  {
   "cell_type": "code",
   "execution_count": 6,
   "metadata": {},
   "outputs": [
    {
     "data": {
      "text/plain": [
       "0.9547612255945216"
      ]
     },
     "execution_count": 6,
     "metadata": {},
     "output_type": "execute_result"
    }
   ],
   "source": [
    "mvtest.probability(control='E', variant='C')"
   ]
  },
  {
   "cell_type": "markdown",
   "metadata": {},
   "source": [
    "Compute P[D > max(A, B, C, E)]"
   ]
  },
  {
   "cell_type": "code",
   "execution_count": 7,
   "metadata": {},
   "outputs": [
    {
     "data": {
      "text/plain": [
       "0.767440589056152"
      ]
     },
     "execution_count": 7,
     "metadata": {},
     "output_type": "execute_result"
    }
   ],
   "source": [
    "mvtest.probability_vs_all(variant=\"D\", method=\"MLHS\")"
   ]
  },
  {
   "cell_type": "code",
   "execution_count": 8,
   "metadata": {},
   "outputs": [
    {
     "data": {
      "text/plain": [
       "0.768987"
      ]
     },
     "execution_count": 8,
     "metadata": {},
     "output_type": "execute_result"
    }
   ],
   "source": [
    "mvtest.probability_vs_all(variant=\"D\", method=\"MC\")"
   ]
  },
  {
   "cell_type": "markdown",
   "metadata": {},
   "source": [
    "Compute E[max(max(A,B,C, E)−D,0)]"
   ]
  },
  {
   "cell_type": "code",
   "execution_count": 9,
   "metadata": {},
   "outputs": [
    {
     "data": {
      "text/plain": [
       "0.0030945972471384206"
      ]
     },
     "execution_count": 9,
     "metadata": {},
     "output_type": "execute_result"
    }
   ],
   "source": [
    "mvtest.expected_loss_vs_all(variant=\"D\", method=\"MLHS\")"
   ]
  },
  {
   "cell_type": "code",
   "execution_count": 10,
   "metadata": {},
   "outputs": [
    {
     "data": {
      "text/plain": [
       "0.003104923810576586"
      ]
     },
     "execution_count": 10,
     "metadata": {},
     "output_type": "execute_result"
    }
   ],
   "source": [
    "mvtest.expected_loss_vs_all(variant=\"D\", method=\"MC\")"
   ]
  }
 ],
 "metadata": {
  "kernelspec": {
   "display_name": "Python 3",
   "language": "python",
   "name": "python3"
  },
  "language_info": {
   "codemirror_mode": {
    "name": "ipython",
    "version": 3
   },
   "file_extension": ".py",
   "mimetype": "text/x-python",
   "name": "python",
   "nbconvert_exporter": "python",
   "pygments_lexer": "ipython3",
   "version": "3.7.3"
  }
 },
 "nbformat": 4,
 "nbformat_minor": 2
}
