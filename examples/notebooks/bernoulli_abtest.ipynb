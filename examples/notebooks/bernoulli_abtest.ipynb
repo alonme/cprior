{
 "cells": [
  {
   "cell_type": "code",
   "execution_count": 1,
   "metadata": {},
   "outputs": [],
   "source": [
    "import scipy.stats as st\n",
    "\n",
    "from cprior import BernoulliModel\n",
    "from cprior import BernoulliABTest"
   ]
  },
  {
   "cell_type": "markdown",
   "metadata": {},
   "source": [
    "Two model variants A (control/baseline) and B (variation), and build A/B test"
   ]
  },
  {
   "cell_type": "code",
   "execution_count": 2,
   "metadata": {},
   "outputs": [],
   "source": [
    "modelA = BernoulliModel(name=\"control\", alpha=1, beta=1)\n",
    "modelB = BernoulliModel(name=\"variation\", alpha=1, beta=1)"
   ]
  },
  {
   "cell_type": "code",
   "execution_count": 3,
   "metadata": {},
   "outputs": [],
   "source": [
    "abtest = BernoulliABTest(modelA=modelA, modelB=modelB, simulations=1000000)"
   ]
  },
  {
   "cell_type": "markdown",
   "metadata": {},
   "source": [
    "Generate new data and update models"
   ]
  },
  {
   "cell_type": "code",
   "execution_count": 4,
   "metadata": {},
   "outputs": [],
   "source": [
    "data_A = st.bernoulli(p=0.10).rvs(size=1500, random_state=42)\n",
    "data_B = st.bernoulli(p=0.11).rvs(size=1600, random_state=42)\n",
    "\n",
    "abtest.update_A(data_A)\n",
    "abtest.update_B(data_B)"
   ]
  },
  {
   "cell_type": "markdown",
   "metadata": {},
   "source": [
    "Compute P[A > B] and P[B > A]"
   ]
  },
  {
   "cell_type": "code",
   "execution_count": 5,
   "metadata": {},
   "outputs": [
    {
     "name": "stdout",
     "output_type": "stream",
     "text": [
      "P[A > B] = 0.10243749\n",
      "P[B > A] = 0.89756251\n"
     ]
    }
   ],
   "source": [
    "prob_A = abtest.probability(variant=\"A\")\n",
    "prob_B = abtest.probability(variant=\"B\")\n",
    "print(\"P[A > B] = {:.8f}\".format(prob_A))\n",
    "print(\"P[B > A] = {:.8f}\".format(prob_B))"
   ]
  },
  {
   "cell_type": "markdown",
   "metadata": {},
   "source": [
    "Compute posterior expected loss given a variant"
   ]
  },
  {
   "cell_type": "code",
   "execution_count": 6,
   "metadata": {},
   "outputs": [
    {
     "name": "stdout",
     "output_type": "stream",
     "text": [
      "E[max(B - A, 0)] = 0.01474728\n",
      "E[max(A - B, 0)] = 0.00054815\n"
     ]
    }
   ],
   "source": [
    "el_A = abtest.expected_loss(variant=\"A\")\n",
    "el_B = abtest.expected_loss(variant=\"B\")\n",
    "print(\"E[max(B - A, 0)] = {:.8f}\".format(el_A))\n",
    "print(\"E[max(A - B, 0)] = {:.8f}\".format(el_B))"
   ]
  },
  {
   "cell_type": "markdown",
   "metadata": {},
   "source": [
    "Compute expected loss credible intervals of the difference distribution B - A and B - A"
   ]
  },
  {
   "cell_type": "code",
   "execution_count": 7,
   "metadata": {},
   "outputs": [
    {
     "data": {
      "text/plain": [
       "array([-0.00421035,  0.03262392])"
      ]
     },
     "execution_count": 7,
     "metadata": {},
     "output_type": "execute_result"
    }
   ],
   "source": [
    "abtest.expected_loss_ci(variant=\"A\", method=\"MC\")"
   ]
  },
  {
   "cell_type": "code",
   "execution_count": 8,
   "metadata": {},
   "outputs": [
    {
     "data": {
      "text/plain": [
       "array([-0.03260194,  0.0042448 ])"
      ]
     },
     "execution_count": 8,
     "metadata": {},
     "output_type": "execute_result"
    }
   ],
   "source": [
    "abtest.expected_loss_ci(variant=\"B\", method=\"MC\")"
   ]
  },
  {
   "cell_type": "markdown",
   "metadata": {},
   "source": [
    "Compute expected loss relative E[(B−A)/A] and E[(A−B)/B]"
   ]
  },
  {
   "cell_type": "code",
   "execution_count": 9,
   "metadata": {},
   "outputs": [
    {
     "data": {
      "text/plain": [
       "0.14516576501595235"
      ]
     },
     "execution_count": 9,
     "metadata": {},
     "output_type": "execute_result"
    }
   ],
   "source": [
    "abtest.expected_loss_relative(variant=\"A\")"
   ]
  },
  {
   "cell_type": "code",
   "execution_count": 10,
   "metadata": {},
   "outputs": [
    {
     "data": {
      "text/plain": [
       "-0.11747061265982273"
      ]
     },
     "execution_count": 10,
     "metadata": {},
     "output_type": "execute_result"
    }
   ],
   "source": [
    "abtest.expected_loss_relative(variant=\"B\")"
   ]
  },
  {
   "cell_type": "markdown",
   "metadata": {},
   "source": [
    "Compute expected loss relative credible intervals"
   ]
  },
  {
   "cell_type": "code",
   "execution_count": 11,
   "metadata": {},
   "outputs": [
    {
     "data": {
      "text/plain": [
       "(-0.03786616058042691, 0.34964335361398957)"
      ]
     },
     "execution_count": 11,
     "metadata": {},
     "output_type": "execute_result"
    }
   ],
   "source": [
    "abtest.expected_loss_relative_ci(variant=\"A\", method=\"exact\")"
   ]
  },
  {
   "cell_type": "code",
   "execution_count": 12,
   "metadata": {},
   "outputs": [
    {
     "data": {
      "text/plain": [
       "(-0.2590635168007447, 0.03935643777300757)"
      ]
     },
     "execution_count": 12,
     "metadata": {},
     "output_type": "execute_result"
    }
   ],
   "source": [
    "abtest.expected_loss_relative_ci(variant=\"B\", method=\"exact\")"
   ]
  }
 ],
 "metadata": {
  "kernelspec": {
   "display_name": "Python [conda env:anaconda3]",
   "language": "python",
   "name": "conda-env-anaconda3-py"
  },
  "language_info": {
   "codemirror_mode": {
    "name": "ipython",
    "version": 3
   },
   "file_extension": ".py",
   "mimetype": "text/x-python",
   "name": "python",
   "nbconvert_exporter": "python",
   "pygments_lexer": "ipython3",
   "version": "3.5.5"
  }
 },
 "nbformat": 4,
 "nbformat_minor": 2
}
