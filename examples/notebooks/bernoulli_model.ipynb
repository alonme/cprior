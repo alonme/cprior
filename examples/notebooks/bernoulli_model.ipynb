{
 "cells": [
  {
   "cell_type": "code",
   "execution_count": null,
   "metadata": {},
   "outputs": [],
   "source": [
    "import scipy.stats as st\n",
    "\n",
    "from cprior.bernoulli import BernoulliModel\n",
    "from cprior.bernoulli import BernoulliABTest"
   ]
  },
  {
   "cell_type": "markdown",
   "metadata": {},
   "source": [
    "Two model variants A (control/baseline) and B (variation), and build A/B test"
   ]
  },
  {
   "cell_type": "code",
   "execution_count": null,
   "metadata": {},
   "outputs": [],
   "source": [
    "modelA = BernoulliModel(name=\"control\", alpha=1, beta=1)\n",
    "modelB = BernoulliModel(name=\"variation\", alpha=1, beta=1)"
   ]
  },
  {
   "cell_type": "code",
   "execution_count": null,
   "metadata": {},
   "outputs": [],
   "source": [
    "abtest = BernoulliABTest(modelA=modelA, modelB=modelB, simulations=1000000)"
   ]
  },
  {
   "cell_type": "markdown",
   "metadata": {},
   "source": [
    "Generate new data and update models"
   ]
  },
  {
   "cell_type": "code",
   "execution_count": null,
   "metadata": {},
   "outputs": [],
   "source": [
    "data_A = st.bernoulli(p=0.10).rvs(size=1500, random_state=42)\n",
    "data_B = st.bernoulli(p=0.11).rvs(size=1600, random_state=42)\n",
    "\n",
    "abtest.update_A(data_A)\n",
    "abtest.update_B(data_B)"
   ]
  },
  {
   "cell_type": "markdown",
   "metadata": {},
   "source": [
    "Compute P[A > B] and P[B > A]"
   ]
  },
  {
   "cell_type": "code",
   "execution_count": null,
   "metadata": {},
   "outputs": [],
   "source": [
    "prob_A = abtest.probability(variant=\"A\")\n",
    "prob_B = abtest.probability(variant=\"B\")\n",
    "print(\"P[A > B] = {:.4f}\".format(prob_A))\n",
    "print(\"P[B > A] = {:.4f}\".format(prob_B))"
   ]
  },
  {
   "cell_type": "markdown",
   "metadata": {},
   "source": [
    "Compute posterior expected loss given a variant"
   ]
  },
  {
   "cell_type": "code",
   "execution_count": null,
   "metadata": {},
   "outputs": [],
   "source": [
    "el_A = abtest.expected_loss(variant=\"A\")\n",
    "el_B = abtest.expected_loss(variant=\"B\")\n",
    "print(\"E[max(B - A, 0)] = {:.4f}\".format(el_A))\n",
    "print(\"E[max(A - B, 0)] = {:.4f}\".format(el_B))"
   ]
  },
  {
   "cell_type": "code",
   "execution_count": null,
   "metadata": {},
   "outputs": [],
   "source": []
  }
 ],
 "metadata": {
  "kernelspec": {
   "display_name": "Python [conda env:anaconda3]",
   "language": "python",
   "name": "conda-env-anaconda3-py"
  },
  "language_info": {
   "codemirror_mode": {
    "name": "ipython",
    "version": 3
   },
   "file_extension": ".py",
   "mimetype": "text/x-python",
   "name": "python",
   "nbconvert_exporter": "python",
   "pygments_lexer": "ipython3",
   "version": "3.5.5"
  }
 },
 "nbformat": 4,
 "nbformat_minor": 2
}
